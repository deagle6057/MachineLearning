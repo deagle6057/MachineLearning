{
 "cells": [
  {
   "cell_type": "markdown",
   "metadata": {
    "id": "0DxNKOyW8AKE"
   },
   "source": [
    "# Military Power Clustering Project\n",
    "-World military power\n",
    "Source : globalfirepower.com on 1st may 2020\n",
    "\n",
    "- https://data.world/vizzup/world-military-power/workspace/file?filename=World+military+power.xlsx\n"
   ]
  },
  {
   "cell_type": "markdown",
   "metadata": {
    "id": "pHcni9Yd8AKI"
   },
   "source": [
    "# Import Libraries"
   ]
  },
  {
   "cell_type": "code",
   "execution_count": 1,
   "metadata": {
    "id": "t8CFBZr28AKJ"
   },
   "outputs": [],
   "source": [
    "import numpy as np\n",
    "import seaborn as sns\n",
    "import matplotlib.pyplot as plt\n",
    "import warnings\n",
    "warnings.filterwarnings(\"ignore\")\n",
    "import pandas as pd"
   ]
  },
  {
   "cell_type": "markdown",
   "metadata": {
    "id": "LnUyXAAC8AKJ"
   },
   "source": [
    "# Ingest Data  "
   ]
  },
  {
   "cell_type": "code",
   "execution_count": 2,
   "metadata": {
    "id": "enCbGulB8AKK"
   },
   "outputs": [
    {
     "data": {
      "text/html": [
       "<div>\n",
       "<style scoped>\n",
       "    .dataframe tbody tr th:only-of-type {\n",
       "        vertical-align: middle;\n",
       "    }\n",
       "\n",
       "    .dataframe tbody tr th {\n",
       "        vertical-align: top;\n",
       "    }\n",
       "\n",
       "    .dataframe thead tr th {\n",
       "        text-align: left;\n",
       "    }\n",
       "</style>\n",
       "<table border=\"1\" class=\"dataframe\">\n",
       "  <thead>\n",
       "    <tr>\n",
       "      <th></th>\n",
       "      <th colspan=\"2\" halign=\"left\">2020 ranking</th>\n",
       "      <th colspan=\"8\" halign=\"left\">Airforce Strength</th>\n",
       "      <th>...</th>\n",
       "      <th colspan=\"2\" halign=\"left\">Manpower</th>\n",
       "      <th colspan=\"8\" halign=\"left\">Geography</th>\n",
       "    </tr>\n",
       "    <tr>\n",
       "      <th></th>\n",
       "      <th>Military Strength</th>\n",
       "      <th>Military Strength Power Index</th>\n",
       "      <th>Aircraft Strength</th>\n",
       "      <th>Aircraft Strength value</th>\n",
       "      <th>Fighter/Interceptor Strength</th>\n",
       "      <th>Fighter/Interceptor Strength value</th>\n",
       "      <th>Attack Aircraft Strength</th>\n",
       "      <th>Attack Aircraft Strength value</th>\n",
       "      <th>Transport Aircraft Fleet Strength</th>\n",
       "      <th>Transport Aircraft Fleet Strength value</th>\n",
       "      <th>...</th>\n",
       "      <th>Total Population</th>\n",
       "      <th>Total Population value</th>\n",
       "      <th>Total Square Land Area</th>\n",
       "      <th>Total Square Land Area value</th>\n",
       "      <th>Total Coastline Coverage</th>\n",
       "      <th>Total Coastline Coverage value</th>\n",
       "      <th>Total Waterway Coverage</th>\n",
       "      <th>Total Waterway Coverage value</th>\n",
       "      <th>Total Border Coverage</th>\n",
       "      <th>Total Border Coverage value</th>\n",
       "    </tr>\n",
       "  </thead>\n",
       "  <tbody>\n",
       "    <tr>\n",
       "      <th>0</th>\n",
       "      <td>Afghanistan</td>\n",
       "      <td>1.3444</td>\n",
       "      <td>Afghanistan</td>\n",
       "      <td>260.0</td>\n",
       "      <td>Afghanistan</td>\n",
       "      <td>0.0</td>\n",
       "      <td>Afghanistan</td>\n",
       "      <td>25.0</td>\n",
       "      <td>Afghanistan</td>\n",
       "      <td>30.0</td>\n",
       "      <td>...</td>\n",
       "      <td>Afghanistan</td>\n",
       "      <td>3,49,40,837</td>\n",
       "      <td>Afghanistan</td>\n",
       "      <td>6,52,230</td>\n",
       "      <td>Afghanistan</td>\n",
       "      <td>0.0</td>\n",
       "      <td>Afghanistan</td>\n",
       "      <td>1200.0</td>\n",
       "      <td>Afghanistan</td>\n",
       "      <td>5987.0</td>\n",
       "    </tr>\n",
       "    <tr>\n",
       "      <th>1</th>\n",
       "      <td>Albania</td>\n",
       "      <td>2.3137</td>\n",
       "      <td>Albania</td>\n",
       "      <td>19.0</td>\n",
       "      <td>Albania</td>\n",
       "      <td>0.0</td>\n",
       "      <td>Albania</td>\n",
       "      <td>0.0</td>\n",
       "      <td>Albania</td>\n",
       "      <td>0.0</td>\n",
       "      <td>...</td>\n",
       "      <td>Albania</td>\n",
       "      <td>30,57,220</td>\n",
       "      <td>Albania</td>\n",
       "      <td>28748.0</td>\n",
       "      <td>Albania</td>\n",
       "      <td>362.0</td>\n",
       "      <td>Albania</td>\n",
       "      <td>41.0</td>\n",
       "      <td>Albania</td>\n",
       "      <td>691.0</td>\n",
       "    </tr>\n",
       "    <tr>\n",
       "      <th>2</th>\n",
       "      <td>Algeria</td>\n",
       "      <td>0.4659</td>\n",
       "      <td>Algeria</td>\n",
       "      <td>551.0</td>\n",
       "      <td>Algeria</td>\n",
       "      <td>103.0</td>\n",
       "      <td>Algeria</td>\n",
       "      <td>22.0</td>\n",
       "      <td>Algeria</td>\n",
       "      <td>59.0</td>\n",
       "      <td>...</td>\n",
       "      <td>Algeria</td>\n",
       "      <td>4,16,57,488</td>\n",
       "      <td>Algeria</td>\n",
       "      <td>23,81,741</td>\n",
       "      <td>Algeria</td>\n",
       "      <td>998.0</td>\n",
       "      <td>Algeria</td>\n",
       "      <td>0.0</td>\n",
       "      <td>Algeria</td>\n",
       "      <td>6734.0</td>\n",
       "    </tr>\n",
       "    <tr>\n",
       "      <th>3</th>\n",
       "      <td>Angola</td>\n",
       "      <td>0.8379</td>\n",
       "      <td>Angola</td>\n",
       "      <td>295.0</td>\n",
       "      <td>Angola</td>\n",
       "      <td>72.0</td>\n",
       "      <td>Angola</td>\n",
       "      <td>18.0</td>\n",
       "      <td>Angola</td>\n",
       "      <td>30.0</td>\n",
       "      <td>...</td>\n",
       "      <td>Angola</td>\n",
       "      <td>3,03,55,880</td>\n",
       "      <td>Angola</td>\n",
       "      <td>12,46,700</td>\n",
       "      <td>Angola</td>\n",
       "      <td>1600.0</td>\n",
       "      <td>Angola</td>\n",
       "      <td>1300.0</td>\n",
       "      <td>Angola</td>\n",
       "      <td>5369.0</td>\n",
       "    </tr>\n",
       "    <tr>\n",
       "      <th>4</th>\n",
       "      <td>Argentina</td>\n",
       "      <td>0.6521</td>\n",
       "      <td>Argentina</td>\n",
       "      <td>227.0</td>\n",
       "      <td>Argentina</td>\n",
       "      <td>24.0</td>\n",
       "      <td>Argentina</td>\n",
       "      <td>7.0</td>\n",
       "      <td>Argentina</td>\n",
       "      <td>9.0</td>\n",
       "      <td>...</td>\n",
       "      <td>Argentina</td>\n",
       "      <td>4,46,94,198</td>\n",
       "      <td>Argentina</td>\n",
       "      <td>27,80,400</td>\n",
       "      <td>Argentina</td>\n",
       "      <td>4989.0</td>\n",
       "      <td>Argentina</td>\n",
       "      <td>11000.0</td>\n",
       "      <td>Argentina</td>\n",
       "      <td>11968.0</td>\n",
       "    </tr>\n",
       "  </tbody>\n",
       "</table>\n",
       "<p>5 rows × 60 columns</p>\n",
       "</div>"
      ],
      "text/plain": [
       "       2020 ranking                               Airforce Strength  \\\n",
       "  Military Strength Military Strength Power Index Aircraft Strength   \n",
       "0       Afghanistan                        1.3444       Afghanistan   \n",
       "1           Albania                        2.3137           Albania   \n",
       "2           Algeria                        0.4659           Algeria   \n",
       "3            Angola                        0.8379            Angola   \n",
       "4         Argentina                        0.6521         Argentina   \n",
       "\n",
       "                                                        \\\n",
       "  Aircraft Strength value Fighter/Interceptor Strength   \n",
       "0                   260.0                  Afghanistan   \n",
       "1                    19.0                      Albania   \n",
       "2                   551.0                      Algeria   \n",
       "3                   295.0                       Angola   \n",
       "4                   227.0                    Argentina   \n",
       "\n",
       "                                                               \\\n",
       "  Fighter/Interceptor Strength value Attack Aircraft Strength   \n",
       "0                                0.0              Afghanistan   \n",
       "1                                0.0                  Albania   \n",
       "2                              103.0                  Algeria   \n",
       "3                               72.0                   Angola   \n",
       "4                               24.0                Argentina   \n",
       "\n",
       "                                                                    \\\n",
       "  Attack Aircraft Strength value Transport Aircraft Fleet Strength   \n",
       "0                           25.0                       Afghanistan   \n",
       "1                            0.0                           Albania   \n",
       "2                           22.0                           Algeria   \n",
       "3                           18.0                            Angola   \n",
       "4                            7.0                         Argentina   \n",
       "\n",
       "                                           ...         Manpower  \\\n",
       "  Transport Aircraft Fleet Strength value  ... Total Population   \n",
       "0                                    30.0  ...      Afghanistan   \n",
       "1                                     0.0  ...          Albania   \n",
       "2                                    59.0  ...          Algeria   \n",
       "3                                    30.0  ...           Angola   \n",
       "4                                     9.0  ...        Argentina   \n",
       "\n",
       "                                      Geography                               \\\n",
       "  Total Population value Total Square Land Area Total Square Land Area value   \n",
       "0            3,49,40,837            Afghanistan                     6,52,230   \n",
       "1              30,57,220                Albania                      28748.0   \n",
       "2            4,16,57,488                Algeria                    23,81,741   \n",
       "3            3,03,55,880                 Angola                    12,46,700   \n",
       "4            4,46,94,198              Argentina                    27,80,400   \n",
       "\n",
       "                                                           \\\n",
       "  Total Coastline Coverage Total Coastline Coverage value   \n",
       "0              Afghanistan                            0.0   \n",
       "1                  Albania                          362.0   \n",
       "2                  Algeria                          998.0   \n",
       "3                   Angola                         1600.0   \n",
       "4                Argentina                         4989.0   \n",
       "\n",
       "                                                                               \\\n",
       "  Total Waterway Coverage Total Waterway Coverage value Total Border Coverage   \n",
       "0             Afghanistan                        1200.0           Afghanistan   \n",
       "1                 Albania                          41.0               Albania   \n",
       "2                 Algeria                           0.0               Algeria   \n",
       "3                  Angola                        1300.0                Angola   \n",
       "4               Argentina                       11000.0             Argentina   \n",
       "\n",
       "                               \n",
       "  Total Border Coverage value  \n",
       "0                      5987.0  \n",
       "1                       691.0  \n",
       "2                      6734.0  \n",
       "3                      5369.0  \n",
       "4                     11968.0  \n",
       "\n",
       "[5 rows x 60 columns]"
      ]
     },
     "execution_count": 2,
     "metadata": {},
     "output_type": "execute_result"
    }
   ],
   "source": [
    "df = pd.read_excel(\"World military power.xlsx\",header=[0,1])\n",
    "df.head()"
   ]
  },
  {
   "cell_type": "markdown",
   "metadata": {
    "id": "v7Eqi2K28AKK"
   },
   "source": [
    "# EDA"
   ]
  },
  {
   "cell_type": "code",
   "execution_count": null,
   "metadata": {
    "id": "QxAbx-Y98AKK"
   },
   "outputs": [],
   "source": []
  },
  {
   "cell_type": "markdown",
   "metadata": {
    "id": "EoAk59FU8AKL"
   },
   "source": [
    "## Implement basic steps to see how is your data looks like"
   ]
  },
  {
   "cell_type": "code",
   "execution_count": null,
   "metadata": {
    "id": "PU3d2cKt8AKL"
   },
   "outputs": [],
   "source": [
    "df.info()"
   ]
  },
  {
   "cell_type": "code",
   "execution_count": null,
   "metadata": {},
   "outputs": [],
   "source": [
    "df.shape"
   ]
  },
  {
   "cell_type": "code",
   "execution_count": null,
   "metadata": {},
   "outputs": [],
   "source": [
    "df.duplicated().sum()"
   ]
  },
  {
   "cell_type": "code",
   "execution_count": null,
   "metadata": {},
   "outputs": [],
   "source": [
    "df.isna().sum().any()"
   ]
  },
  {
   "cell_type": "markdown",
   "metadata": {
    "id": "oSiUeb-I8AKL"
   },
   "source": [
    "## Convert multi index columns to one level"
   ]
  },
  {
   "cell_type": "code",
   "execution_count": null,
   "metadata": {
    "id": "aTcr2roB8AKM"
   },
   "outputs": [],
   "source": [
    "df.columns"
   ]
  },
  {
   "cell_type": "code",
   "execution_count": null,
   "metadata": {},
   "outputs": [],
   "source": [
    "df.columns = ['_'.join(tuple(map(str, t))) for t in df.columns.values]"
   ]
  },
  {
   "cell_type": "code",
   "execution_count": null,
   "metadata": {},
   "outputs": [],
   "source": [
    "df.head()"
   ]
  },
  {
   "cell_type": "markdown",
   "metadata": {
    "id": "9AHJyubO8AKM"
   },
   "source": [
    "## Detect and drop duplicated columns"
   ]
  },
  {
   "cell_type": "code",
   "execution_count": null,
   "metadata": {
    "id": "zb_hDNB08AKM"
   },
   "outputs": [],
   "source": [
    "value_cols = [i[0] for i in df.columns.str.findall(\".*value\") if i !=[]]\n",
    "\n",
    "value_cols"
   ]
  },
  {
   "cell_type": "code",
   "execution_count": null,
   "metadata": {},
   "outputs": [],
   "source": [
    "value_df = df[value_cols].copy()\n",
    "value_df.insert(0, \"country\",df[\"2020 ranking_Military Strength\"])\n",
    "value_df.insert(1, \"Military Strength Power Index\", df[\"2020 ranking_Military Strength Power Index\"])\n",
    "value_df.head()"
   ]
  },
  {
   "cell_type": "markdown",
   "metadata": {
    "id": "D-WNWchf8AKM"
   },
   "source": [
    "## Check for missing values "
   ]
  },
  {
   "cell_type": "code",
   "execution_count": null,
   "metadata": {
    "id": "Hp9q9ILT8AKN"
   },
   "outputs": [],
   "source": [
    "df.isnull().sum().sort_values(ascending=False)"
   ]
  },
  {
   "cell_type": "code",
   "execution_count": null,
   "metadata": {},
   "outputs": [],
   "source": [
    "df.isnull().melt(value_name=\"missing\")"
   ]
  },
  {
   "cell_type": "markdown",
   "metadata": {
    "id": "T-aAEYmI8AKN"
   },
   "source": [
    "## Deal with missing values \n",
    "* Hint-1, use wikipedia to fill in missing values ​​comparing with similar countries\n",
    "* Hint-2, Georeferences of countries can help you"
   ]
  },
  {
   "cell_type": "code",
   "execution_count": null,
   "metadata": {
    "id": "wtUZNcXq8AKN"
   },
   "outputs": [],
   "source": [
    "value_df.loc[value_df[\"Geography_Total Coastline Coverage value\"].isnull(), ['country',\n",
    "                                                                             'Navy Strength_Navy Fleet Strengths value',\n",
    "                                                                             'Navy Strength_Aircraft Carrier Fleet Strength value',\n",
    "                                                                             'Navy Strength_Submarine Fleet Strength value',\n",
    "                                                                             'Navy Strength_Destroyer Fleet Strength value',\n",
    "                                                                             'Navy Strength_Frigate Fleet Strength value',\n",
    "                                                                             'Geography_Total Waterway Coverage value']]"
   ]
  },
  {
   "cell_type": "code",
   "execution_count": null,
   "metadata": {},
   "outputs": [],
   "source": [
    "value_df.loc[\n",
    "    \n",
    "    value_df[\"Geography_Total Coastline Coverage value\"].isnull(),\n",
    "    \n",
    "    ['Navy Strength_Navy Fleet Strengths value',\n",
    "     'Navy Strength_Aircraft Carrier Fleet Strength value',\n",
    "     'Navy Strength_Submarine Fleet Strength value',\n",
    "     'Navy Strength_Destroyer Fleet Strength value',\n",
    "     'Navy Strength_Frigate Fleet Strength value']\n",
    "    \n",
    "    ] = 0"
   ]
  },
  {
   "cell_type": "code",
   "execution_count": null,
   "metadata": {},
   "outputs": [],
   "source": [
    "value_df.loc[value_df['Navy Strength_Aircraft Carrier Fleet Strength value'].isnull()|\n",
    "             value_df['Navy Strength_Submarine Fleet Strength value'].isnull()|\n",
    "             value_df['Navy Strength_Destroyer Fleet Strength value'].isnull()|\n",
    "             value_df['Navy Strength_Frigate Fleet Strength value'].isnull()] "
   ]
  },
  {
   "cell_type": "code",
   "execution_count": null,
   "metadata": {},
   "outputs": [],
   "source": [
    "value_df.loc[value_df[\"country\"] == \"Uzbekistan\",\n",
    "            ['Navy Strength_Navy Fleet Strengths value',\n",
    "             'Navy Strength_Aircraft Carrier Fleet Strength value',\n",
    "             'Navy Strength_Submarine Fleet Strength value',\n",
    "             'Navy Strength_Destroyer Fleet Strength value',\n",
    "             'Navy Strength_Frigate Fleet Strength value',\n",
    "           ]] "
   ]
  },
  {
   "cell_type": "code",
   "execution_count": null,
   "metadata": {},
   "outputs": [],
   "source": [
    "value_df.loc[value_df[\"country\"] == \"Uzbekistan\",\n",
    "            ['Navy Strength_Navy Fleet Strengths value',\n",
    "             'Navy Strength_Aircraft Carrier Fleet Strength value',\n",
    "             'Navy Strength_Submarine Fleet Strength value',\n",
    "             'Navy Strength_Destroyer Fleet Strength value',\n",
    "             'Navy Strength_Frigate Fleet Strength value',\n",
    "           ]] = 0"
   ]
  },
  {
   "cell_type": "code",
   "execution_count": null,
   "metadata": {},
   "outputs": [],
   "source": [
    "value_df.loc[((value_df['Navy Strength_Navy Fleet Strengths value'] > 200) & \n",
    "             (value_df['Navy Strength_Navy Fleet Strengths value'] < 250)),\n",
    "            ['country',\n",
    "             'Navy Strength_Navy Fleet Strengths value',\n",
    "             'Navy Strength_Aircraft Carrier Fleet Strength value',\n",
    "             'Navy Strength_Submarine Fleet Strength value',\n",
    "             'Navy Strength_Destroyer Fleet Strength value',\n",
    "             'Navy Strength_Frigate Fleet Strength value',\n",
    "           ]] "
   ]
  },
  {
   "cell_type": "code",
   "execution_count": null,
   "metadata": {},
   "outputs": [],
   "source": [
    "value_df.loc[value_df[\"country\"] == \"France\",\n",
    "             ['country',\n",
    "             'Navy Strength_Navy Fleet Strengths value',\n",
    "             'Navy Strength_Aircraft Carrier Fleet Strength value',\n",
    "             'Navy Strength_Submarine Fleet Strength value',\n",
    "             'Navy Strength_Destroyer Fleet Strength value',\n",
    "             'Navy Strength_Frigate Fleet Strength value',\n",
    "           ]] "
   ]
  },
  {
   "cell_type": "code",
   "execution_count": null,
   "metadata": {},
   "outputs": [],
   "source": [
    "\n",
    "value_df.loc[value_df[\"country\"] == \"South Korea\",'Navy Strength_Aircraft Carrier Fleet Strength value'] = 2\n",
    "value_df.loc[value_df[\"country\"] == \"South Korea\",'Navy Strength_Submarine Fleet Strength value'] = 19\n",
    "value_df.loc[value_df[\"country\"] == \"South Korea\",'Navy Strength_Destroyer Fleet Strength value'] = 12\n",
    "value_df.loc[value_df[\"country\"] == \"South Korea\",'Navy Strength_Frigate Fleet Strength value'] = 12"
   ]
  },
  {
   "cell_type": "code",
   "execution_count": null,
   "metadata": {},
   "outputs": [],
   "source": [
    "value_df.loc[value_df['Geography_Total Coastline Coverage value'].isnull()]"
   ]
  },
  {
   "cell_type": "code",
   "execution_count": null,
   "metadata": {},
   "outputs": [],
   "source": [
    "value_df.loc[value_df['Geography_Total Coastline Coverage value'].isnull(), \n",
    "                      'Geography_Total Coastline Coverage value']  = 0 "
   ]
  },
  {
   "cell_type": "code",
   "execution_count": null,
   "metadata": {},
   "outputs": [],
   "source": [
    "value_df.loc[value_df['Geography_Total Border Coverage value'].isnull()]"
   ]
  },
  {
   "cell_type": "code",
   "execution_count": null,
   "metadata": {},
   "outputs": [],
   "source": [
    "value_df.loc[value_df['Geography_Total Border Coverage value'].isnull(), \n",
    "                      'Geography_Total Border Coverage value' ] = 0"
   ]
  },
  {
   "cell_type": "code",
   "execution_count": null,
   "metadata": {},
   "outputs": [],
   "source": [
    "value_df.reset_index(drop=True,inplace=True)"
   ]
  },
  {
   "cell_type": "markdown",
   "metadata": {
    "id": "OpG3lbXj8AKN"
   },
   "source": [
    "## Fix the dtypes"
   ]
  },
  {
   "cell_type": "code",
   "execution_count": null,
   "metadata": {
    "id": "uTPH08uK8AKO"
   },
   "outputs": [],
   "source": [
    "value_df.info()"
   ]
  },
  {
   "cell_type": "code",
   "execution_count": null,
   "metadata": {},
   "outputs": [],
   "source": [
    "value_df.select_dtypes(\"object\")"
   ]
  },
  {
   "cell_type": "code",
   "execution_count": null,
   "metadata": {},
   "outputs": [],
   "source": [
    "value_df.select_dtypes(\"object\")[\"Natural resources_Oil Production value\"].str.replace(\",\",\"\")"
   ]
  },
  {
   "cell_type": "code",
   "execution_count": null,
   "metadata": {},
   "outputs": [],
   "source": [
    "columns = value_df.select_dtypes(\"object\").columns\n",
    "columns"
   ]
  },
  {
   "cell_type": "code",
   "execution_count": null,
   "metadata": {},
   "outputs": [],
   "source": [
    "for col in columns[1:]:\n",
    "    value_df[col]  = value_df[col].astype(\"str\")\n",
    "    value_df[col]  = value_df.select_dtypes(\"object\")[col].str.replace(',','')\n",
    "    value_df[col]  = value_df[col].astype(\"float\")"
   ]
  },
  {
   "cell_type": "code",
   "execution_count": null,
   "metadata": {},
   "outputs": [],
   "source": [
    " value_df.select_dtypes(\"object\")"
   ]
  },
  {
   "cell_type": "markdown",
   "metadata": {
    "id": "hGGYZWU58AKO"
   },
   "source": [
    "## Drop the features that not affect military power\n",
    "* Hint-1,  Georeferences not proper features"
   ]
  },
  {
   "cell_type": "code",
   "execution_count": null,
   "metadata": {
    "id": "B09VrwdB8AKO"
   },
   "outputs": [],
   "source": [
    "value_df.drop(['Geography_Total Square Land Area value',\n",
    "               'Geography_Total Coastline Coverage value',\n",
    "               'Geography_Total Waterway Coverage value',\n",
    "               'Geography_Total Border Coverage value'],axis=1,inplace=True)"
   ]
  },
  {
   "cell_type": "markdown",
   "metadata": {
    "id": "_Q9a0ODT8AKO"
   },
   "source": [
    "## Visualy inspect the some features"
   ]
  },
  {
   "cell_type": "code",
   "execution_count": null,
   "metadata": {
    "id": "6xQ6MEDy8AKO"
   },
   "outputs": [],
   "source": [
    "import plotly.express as px"
   ]
  },
  {
   "cell_type": "code",
   "execution_count": null,
   "metadata": {},
   "outputs": [],
   "source": [
    "fig = px.bar(value_df,x= \"country\" , y = value_df[\"Airforce Strength_Aircraft Strength value\"])\n",
    "fig.show()"
   ]
  },
  {
   "cell_type": "code",
   "execution_count": null,
   "metadata": {},
   "outputs": [],
   "source": [
    "fig = px.box(value_df, x = value_df[\"Airforce Strength_Aircraft Strength value\"],\n",
    "             hover_name=value_df[\"country\"])\n",
    "fig.show()"
   ]
  },
  {
   "cell_type": "code",
   "execution_count": null,
   "metadata": {},
   "outputs": [],
   "source": [
    "fig = px.bar(value_df,x= \"country\" , y = value_df['Navy Strength_Navy Fleet Strengths value'])\n",
    "fig.show()"
   ]
  },
  {
   "cell_type": "code",
   "execution_count": null,
   "metadata": {},
   "outputs": [],
   "source": [
    "fig = px.box(value_df, x = value_df[\"Navy Strength_Navy Fleet Strengths value\"],\n",
    "             hover_name=value_df[\"country\"])\n",
    "\n",
    "fig.show()"
   ]
  },
  {
   "cell_type": "code",
   "execution_count": null,
   "metadata": {},
   "outputs": [],
   "source": [
    "fig = px.bar(value_df,x= \"country\" , y = value_df['Land Strength_Tank Strength value'])\n",
    "fig.show()"
   ]
  },
  {
   "cell_type": "code",
   "execution_count": null,
   "metadata": {},
   "outputs": [],
   "source": [
    "fig = px.box(value_df, x = value_df[\"Land Strength_Tank Strength value\"],\n",
    "             hover_name=value_df[\"country\"])\n",
    "\n",
    "fig.show()"
   ]
  },
  {
   "cell_type": "code",
   "execution_count": null,
   "metadata": {},
   "outputs": [],
   "source": [
    "import plotly.graph_objects as go\n",
    "\n",
    "fig = go.Figure()\n",
    "fig.add_trace(go.Box(x=value_df[\"Finances_External Debt value\"],\n",
    "              hovertext=value_df[\"country\"],\n",
    "              name = \"Finances_External Debt value\")\n",
    "             )\n",
    "fig.add_trace(go.Box(x=value_df[\"Finances_defense spending budget value\"],\n",
    "                     hovertext=value_df[\"country\"],\n",
    "                    name = \"Finances_defense spending budget value\")\n",
    "             )\n",
    "\n",
    "fig.show()"
   ]
  },
  {
   "cell_type": "markdown",
   "metadata": {
    "id": "J4kKwd4y8AKP"
   },
   "source": [
    "## Decriptive statistics"
   ]
  },
  {
   "cell_type": "code",
   "execution_count": null,
   "metadata": {
    "id": "MRfNR8p_8AKP"
   },
   "outputs": [],
   "source": [
    "value_df.describe().T"
   ]
  },
  {
   "cell_type": "code",
   "execution_count": null,
   "metadata": {},
   "outputs": [],
   "source": [
    "fig = px.imshow(value_df.corr())\n",
    "fig.show()"
   ]
  },
  {
   "cell_type": "code",
   "execution_count": null,
   "metadata": {},
   "outputs": [],
   "source": []
  },
  {
   "cell_type": "code",
   "execution_count": null,
   "metadata": {},
   "outputs": [],
   "source": []
  },
  {
   "cell_type": "markdown",
   "metadata": {
    "id": "8WuFtB6i8AKP"
   },
   "source": [
    "# Data Preprocessing"
   ]
  },
  {
   "cell_type": "code",
   "execution_count": null,
   "metadata": {
    "id": "8PjRKofq8AKP"
   },
   "outputs": [],
   "source": [
    "from sklearn.preprocessing import StandardScaler, RobustScaler,MinMaxScaler\n",
    "import warnings\n",
    "warnings.filterwarnings('ignore')\n",
    "warnings.filterwarnings(\"ignore\", category=DeprecationWarning)\n",
    "warnings.filterwarnings(\"ignore\", category=FutureWarning)\n",
    "from sklearn.cluster import KMeans"
   ]
  },
  {
   "cell_type": "code",
   "execution_count": null,
   "metadata": {},
   "outputs": [],
   "source": [
    "X = value_df.drop([\"country\"], axis=1)"
   ]
  },
  {
   "cell_type": "code",
   "execution_count": null,
   "metadata": {},
   "outputs": [],
   "source": [
    "scaler = StandardScaler()\n",
    "X = scaler.fit_transform(X)"
   ]
  },
  {
   "cell_type": "code",
   "execution_count": null,
   "metadata": {},
   "outputs": [],
   "source": []
  },
  {
   "cell_type": "markdown",
   "metadata": {
    "id": "RjfzLF0P8AKP"
   },
   "source": [
    "# Modelling"
   ]
  },
  {
   "cell_type": "markdown",
   "metadata": {
    "id": "dR6v_MwP8AKQ"
   },
   "source": [
    "## Hopkins Test \n",
    "#### Assess the clusterability of a dataset. A score between 0 and 1, a score around 0.5 express no clusterability, a score tending to 1 express an uniform distrubution so clustering can't be useful and  0 express  not an uniform distrubution hence clusterering can be useful."
   ]
  },
  {
   "cell_type": "markdown",
   "metadata": {
    "id": "MwuhI45E8AKQ"
   },
   "source": []
  },
  {
   "cell_type": "code",
   "execution_count": null,
   "metadata": {},
   "outputs": [],
   "source": [
    "from pyclustertend import hopkins"
   ]
  },
  {
   "cell_type": "code",
   "execution_count": null,
   "metadata": {},
   "outputs": [],
   "source": [
    "hopkins(X, X.shape[0])"
   ]
  },
  {
   "cell_type": "code",
   "execution_count": null,
   "metadata": {},
   "outputs": [],
   "source": []
  },
  {
   "cell_type": "markdown",
   "metadata": {
    "id": "hupFwh2N8AKQ"
   },
   "source": [
    "## Clustering with K-means"
   ]
  },
  {
   "cell_type": "code",
   "execution_count": null,
   "metadata": {
    "id": "Xg4jD_8o8AKQ"
   },
   "outputs": [],
   "source": []
  },
  {
   "cell_type": "markdown",
   "metadata": {
    "id": "BRWQmu6H8AKQ"
   },
   "source": [
    "### Elbow Method \n",
    "### We use this method to find optimal k value by looking up to break point of graph. "
   ]
  },
  {
   "cell_type": "code",
   "execution_count": null,
   "metadata": {
    "id": "bJsKrZaA8AKQ"
   },
   "outputs": [],
   "source": [
    "ssd = [] # sum of squared distance\n",
    "\n",
    "K = range(2,10)\n",
    "\n",
    "for k in K:\n",
    "    model = KMeans(n_clusters=k)\n",
    "    model.fit(X)\n",
    "    ssd.append(model.inertia_)"
   ]
  },
  {
   "cell_type": "code",
   "execution_count": null,
   "metadata": {},
   "outputs": [],
   "source": [
    "plt.plot(K, ssd, \"bo-\")\n",
    "plt.xlabel(\"Different k values\")\n",
    "plt.ylabel(\"inertia-error\") \n",
    "plt.title(\"elbow method\")"
   ]
  },
  {
   "cell_type": "code",
   "execution_count": null,
   "metadata": {},
   "outputs": [],
   "source": [
    "df1_diff =pd.DataFrame(-pd.Series(ssd).diff()).rename(index = lambda x : x+1)\n",
    "df1_diff"
   ]
  },
  {
   "cell_type": "code",
   "execution_count": null,
   "metadata": {},
   "outputs": [],
   "source": [
    "df1_diff.plot(kind='bar')"
   ]
  },
  {
   "cell_type": "code",
   "execution_count": null,
   "metadata": {},
   "outputs": [],
   "source": [
    "from yellowbrick.cluster import KElbowVisualizer\n",
    "kmeans = KMeans()\n",
    "visu = KElbowVisualizer(kmeans, k = (2,10))\n",
    "visu.fit(X)\n",
    "visu.poof()"
   ]
  },
  {
   "cell_type": "code",
   "execution_count": null,
   "metadata": {},
   "outputs": [],
   "source": [
    "from sklearn.metrics import silhouette_score\n",
    "\n",
    "silhouette_score(X, kmeans.labels_)"
   ]
  },
  {
   "cell_type": "code",
   "execution_count": null,
   "metadata": {},
   "outputs": [],
   "source": [
    "range_n_clusters = range(2,9)\n",
    "for num_clusters in range_n_clusters:\n",
    "    # intialise kmeans\n",
    "    kmeans = KMeans(n_clusters=num_clusters, random_state=101)\n",
    "    kmeans.fit(X)\n",
    "    cluster_labels = kmeans.labels_\n",
    "    # silhouette score\n",
    "    silhouette_avg = silhouette_score(X, cluster_labels)\n",
    "    print(f\"For n_clusters={num_clusters}, the silhouette score is {silhouette_avg}\")"
   ]
  },
  {
   "cell_type": "markdown",
   "metadata": {
    "id": "mFJFx-Fg8AKR"
   },
   "source": [
    "### Model Building and label visualisation"
   ]
  },
  {
   "cell_type": "code",
   "execution_count": null,
   "metadata": {
    "id": "G0ygI1998AKR"
   },
   "outputs": [],
   "source": [
    "model = KMeans(n_clusters=4)\n",
    "model.fit(X)"
   ]
  },
  {
   "cell_type": "code",
   "execution_count": null,
   "metadata": {},
   "outputs": [],
   "source": [
    "model.inertia_"
   ]
  },
  {
   "cell_type": "code",
   "execution_count": null,
   "metadata": {},
   "outputs": [],
   "source": [
    "model.labels_"
   ]
  },
  {
   "cell_type": "code",
   "execution_count": null,
   "metadata": {},
   "outputs": [],
   "source": [
    "value_df[\"cluster\"] = model.labels_"
   ]
  },
  {
   "cell_type": "code",
   "execution_count": null,
   "metadata": {},
   "outputs": [],
   "source": [
    "plt.figure(figsize=(10,5))\n",
    "sns.scatterplot(value_df[\"Airforce Strength_Aircraft Strength value\"], \n",
    "                value_df[\"Navy Strength_Navy Fleet Strengths value\"], hue= value_df.cluster,palette= \"viridis\");"
   ]
  },
  {
   "cell_type": "code",
   "execution_count": null,
   "metadata": {},
   "outputs": [],
   "source": [
    "fig = px.scatter_3d(x=value_df[\"Airforce Strength_Aircraft Strength value\"],\n",
    "                   y=value_df[\"Finances_defense spending budget value\"],\n",
    "                   z=value_df[\"Finances_External Debt value\"],\n",
    "                   color=value_df.cluster,\n",
    "                   labels = {\"x\": \"Airforce Strength_Aircraft Strength value\",\n",
    "                             \"y\": \"Finances_defense spending budget value\",\n",
    "                             \"z\": \"Finances_External Debt value\"},\n",
    "                   hover_name=value_df[\"country\"])\n",
    "\n",
    "fig.show()"
   ]
  },
  {
   "cell_type": "code",
   "execution_count": null,
   "metadata": {},
   "outputs": [],
   "source": [
    "centroids = model.cluster_centers_\n",
    "\n",
    "plt.scatter(X[:,18], X[:,19], c = value_df.cluster, s = 50, cmap = \"viridis\")\n",
    "plt.scatter(centroids[:,18], centroids[:,19], c = \"black\", s = 200, alpha=0.5);"
   ]
  },
  {
   "cell_type": "code",
   "execution_count": null,
   "metadata": {},
   "outputs": [],
   "source": [
    "plt.figure(figsize=(15,10))\n",
    "plt.title(\"Cluster Count\")\n",
    "ax1 = sns.countplot(x = value_df.cluster)\n",
    "\n",
    "for p in ax1.patches:\n",
    "    ax1.annotate(\n",
    "        s=f\"{p.get_height():1.0f}\",\n",
    "        xy=(p.get_x() + p.get_width() / 2., p.get_height()), \n",
    "        xycoords='data',\n",
    "        ha='center', \n",
    "        va='center', \n",
    "        fontsize=11, \n",
    "        color='black',\n",
    "        xytext=(0,7), \n",
    "        textcoords='offset points',\n",
    "        clip_on=True,                   # <---  important\n",
    "    )\n",
    "plt.show();"
   ]
  },
  {
   "cell_type": "code",
   "execution_count": null,
   "metadata": {},
   "outputs": [],
   "source": []
  },
  {
   "cell_type": "markdown",
   "metadata": {
    "id": "bj8H_Fmr8AKR"
   },
   "source": [
    "### Evaluate "
   ]
  },
  {
   "cell_type": "code",
   "execution_count": null,
   "metadata": {
    "id": "h_oGrBIS8AKR"
   },
   "outputs": [],
   "source": [
    "from sklearn.metrics import silhouette_score"
   ]
  },
  {
   "cell_type": "code",
   "execution_count": null,
   "metadata": {},
   "outputs": [],
   "source": [
    "print(f'Silhouette Score(n=4): {silhouette_score(X, value_df.cluster)}') # towards to 1 means, data good clustered by model"
   ]
  },
  {
   "cell_type": "code",
   "execution_count": null,
   "metadata": {},
   "outputs": [],
   "source": [
    "range_n_clusters = range(2,9)\n",
    "for num_clusters in range_n_clusters:\n",
    "    # intialise kmeans\n",
    "    kmeans = KMeans(n_clusters=num_clusters, random_state=42)\n",
    "    kmeans.fit(X)\n",
    "    cluster_labels = kmeans.labels_\n",
    "    # silhouette score\n",
    "    silhouette_avg = silhouette_score(X, cluster_labels)\n",
    "    print(f\"For n_clusters={num_clusters}, the silhouette score is {silhouette_avg}\")"
   ]
  },
  {
   "cell_type": "code",
   "execution_count": null,
   "metadata": {},
   "outputs": [],
   "source": [
    "den = pd.DataFrame(X,columns=value_df.drop([\"country\",\"cluster\"],axis=1).columns)\n",
    "den[\"cluster\"] = value_df[\"cluster\"]\n",
    "\n",
    "clus_pred = den.groupby(\"cluster\").mean().T\n",
    "clus_pred"
   ]
  },
  {
   "cell_type": "code",
   "execution_count": null,
   "metadata": {},
   "outputs": [],
   "source": [
    "fig= px.line(clus_pred)\n",
    "fig.show()"
   ]
  },
  {
   "cell_type": "markdown",
   "metadata": {
    "id": "eLzoqvfI8AKR"
   },
   "source": [
    "## Hierarchical Clustering"
   ]
  },
  {
   "cell_type": "code",
   "execution_count": null,
   "metadata": {
    "id": "BF5xL3HF8AKS"
   },
   "outputs": [],
   "source": []
  },
  {
   "cell_type": "markdown",
   "metadata": {
    "id": "hZZd6NX_8AKS"
   },
   "source": [
    "### Dendogram"
   ]
  },
  {
   "cell_type": "code",
   "execution_count": null,
   "metadata": {
    "id": "0834lMh08AKS"
   },
   "outputs": [],
   "source": []
  },
  {
   "cell_type": "markdown",
   "metadata": {
    "id": "nOhjvMZN8AKS"
   },
   "source": [
    "### Model Building and label visualisation"
   ]
  },
  {
   "cell_type": "code",
   "execution_count": null,
   "metadata": {
    "id": "-OmyaWc_8AKS"
   },
   "outputs": [],
   "source": []
  },
  {
   "cell_type": "markdown",
   "metadata": {
    "id": "GMdiayVk8AKT"
   },
   "source": [
    "### Evaluate "
   ]
  },
  {
   "cell_type": "code",
   "execution_count": null,
   "metadata": {
    "id": "AyWIsy3P8AKT"
   },
   "outputs": [],
   "source": []
  },
  {
   "cell_type": "code",
   "execution_count": null,
   "metadata": {
    "id": "ae5r4ScQ8AKZ"
   },
   "outputs": [],
   "source": []
  }
 ],
 "metadata": {
  "colab": {
   "collapsed_sections": [
    "pHcni9Yd8AKI",
    "LnUyXAAC8AKJ",
    "v7Eqi2K28AKK",
    "8WuFtB6i8AKP",
    "RjfzLF0P8AKP"
   ],
   "name": "military_power-blank.ipynb",
   "provenance": []
  },
  "interpreter": {
   "hash": "e4e90950cb561445fc7289d5187c528b28750a487d008a70b474c773afaf79b7"
  },
  "kernelspec": {
   "display_name": "Python 3 (ipykernel)",
   "language": "python",
   "name": "python3"
  },
  "language_info": {
   "codemirror_mode": {
    "name": "ipython",
    "version": 3
   },
   "file_extension": ".py",
   "mimetype": "text/x-python",
   "name": "python",
   "nbconvert_exporter": "python",
   "pygments_lexer": "ipython3",
   "version": "3.7.11"
  }
 },
 "nbformat": 4,
 "nbformat_minor": 1
}
