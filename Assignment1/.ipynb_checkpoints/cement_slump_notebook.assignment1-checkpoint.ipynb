{
 "cells": [
  {
   "cell_type": "markdown",
   "metadata": {
    "id": "eHhytqKxLkKN"
   },
   "source": [
    "# Concrete Slump Test Regression"
   ]
  },
  {
   "cell_type": "markdown",
   "metadata": {
    "id": "FyMIezE2LkKR"
   },
   "source": [
    "The concrete slump test measures the consistency of fresh concrete before it sets. It is performed to check the workability of freshly made concrete, and therefore the ease with which concrete flows. It can also be used as an indicator of an improperly mixed batch.\n",
    "\n",
    "<img src=\"https://i0.wp.com/civiconcepts.com/wp-content/uploads/2019/08/Slump-Cone-test-of-concrete.jpg?fit=977%2C488&ssl=1\">\n",
    "\n",
    "Our data set consists of various cement properties and the resulting slump test metrics in cm. Later on the set concrete is tested for its compressive strength 28 days later.\n",
    "\n",
    "Input variables (9):\n",
    "\n",
    "(component kg in one M^3 concrete)(7):\n",
    "* Cement\n",
    "* Slag\n",
    "* Fly ash\n",
    "* Water\n",
    "* SP\n",
    "* Coarse Aggr.\n",
    "* Fine Aggr.\n",
    "\n",
    "(Measurements)(2)\n",
    "* SLUMP (cm)\n",
    "* FLOW (cm)\n",
    "\n",
    "Target variable (1):\n",
    "* **28-day Compressive Strength (Mpa)**\n",
    "\n",
    "Data Source: https://archive.ics.uci.edu/ml/datasets/Concrete+Slump+Test\n",
    "\n",
    "*Credit: Yeh, I-Cheng, \"Modeling slump flow of concrete using second-order regressions and artificial neural networks,\" Cement and Concrete Composites, Vol.29, No. 6, 474-480, 2007.*"
   ]
  },
  {
   "cell_type": "markdown",
   "metadata": {
    "id": "Ml-0HrEBLkKU"
   },
   "source": [
    "# Importing dependencies"
   ]
  },
  {
   "cell_type": "code",
   "execution_count": 1,
   "metadata": {
    "id": "SLDkU8VtZiFx"
   },
   "outputs": [],
   "source": [
    "import numpy as np\n",
    "import pandas as pd\n",
    "import seaborn as sns\n",
    "import matplotlib.pyplot as plt\n",
    "\n",
    "#%matplotlib inline\n",
    "#%matplotlib notebook\n",
    "plt.rcParams[\"figure.figsize\"] = (10,6)\n",
    "import warnings\n",
    "warnings.filterwarnings(\"ignore\")\n",
    "warnings.warn(\"this will not show\")\n",
    "pd.set_option('display.float_format', lambda x: '%.3f' % x)"
   ]
  },
  {
   "cell_type": "markdown",
   "metadata": {
    "id": "LU3s6xZXLkKW"
   },
   "source": [
    "# Loading data"
   ]
  },
  {
   "cell_type": "code",
   "execution_count": 2,
   "metadata": {
    "id": "uT2BCHzfLvLu"
   },
   "outputs": [],
   "source": [
    "df = pd.read_csv('cement_slump.csv')"
   ]
  },
  {
   "cell_type": "code",
   "execution_count": 3,
   "metadata": {},
   "outputs": [
    {
     "data": {
      "text/html": [
       "<div>\n",
       "<style scoped>\n",
       "    .dataframe tbody tr th:only-of-type {\n",
       "        vertical-align: middle;\n",
       "    }\n",
       "\n",
       "    .dataframe tbody tr th {\n",
       "        vertical-align: top;\n",
       "    }\n",
       "\n",
       "    .dataframe thead th {\n",
       "        text-align: right;\n",
       "    }\n",
       "</style>\n",
       "<table border=\"1\" class=\"dataframe\">\n",
       "  <thead>\n",
       "    <tr style=\"text-align: right;\">\n",
       "      <th></th>\n",
       "      <th>Cement</th>\n",
       "      <th>Slag</th>\n",
       "      <th>Fly ash</th>\n",
       "      <th>Water</th>\n",
       "      <th>SP</th>\n",
       "      <th>Coarse Aggr.</th>\n",
       "      <th>Fine Aggr.</th>\n",
       "      <th>SLUMP(cm)</th>\n",
       "      <th>FLOW(cm)</th>\n",
       "      <th>Compressive Strength (28-day)(Mpa)</th>\n",
       "    </tr>\n",
       "  </thead>\n",
       "  <tbody>\n",
       "    <tr>\n",
       "      <th>0</th>\n",
       "      <td>273.000</td>\n",
       "      <td>82.000</td>\n",
       "      <td>105.000</td>\n",
       "      <td>210.000</td>\n",
       "      <td>9.000</td>\n",
       "      <td>904.000</td>\n",
       "      <td>680.000</td>\n",
       "      <td>23.000</td>\n",
       "      <td>62.000</td>\n",
       "      <td>34.990</td>\n",
       "    </tr>\n",
       "    <tr>\n",
       "      <th>1</th>\n",
       "      <td>163.000</td>\n",
       "      <td>149.000</td>\n",
       "      <td>191.000</td>\n",
       "      <td>180.000</td>\n",
       "      <td>12.000</td>\n",
       "      <td>843.000</td>\n",
       "      <td>746.000</td>\n",
       "      <td>0.000</td>\n",
       "      <td>20.000</td>\n",
       "      <td>41.140</td>\n",
       "    </tr>\n",
       "    <tr>\n",
       "      <th>2</th>\n",
       "      <td>162.000</td>\n",
       "      <td>148.000</td>\n",
       "      <td>191.000</td>\n",
       "      <td>179.000</td>\n",
       "      <td>16.000</td>\n",
       "      <td>840.000</td>\n",
       "      <td>743.000</td>\n",
       "      <td>1.000</td>\n",
       "      <td>20.000</td>\n",
       "      <td>41.810</td>\n",
       "    </tr>\n",
       "    <tr>\n",
       "      <th>3</th>\n",
       "      <td>162.000</td>\n",
       "      <td>148.000</td>\n",
       "      <td>190.000</td>\n",
       "      <td>179.000</td>\n",
       "      <td>19.000</td>\n",
       "      <td>838.000</td>\n",
       "      <td>741.000</td>\n",
       "      <td>3.000</td>\n",
       "      <td>21.500</td>\n",
       "      <td>42.080</td>\n",
       "    </tr>\n",
       "    <tr>\n",
       "      <th>4</th>\n",
       "      <td>154.000</td>\n",
       "      <td>112.000</td>\n",
       "      <td>144.000</td>\n",
       "      <td>220.000</td>\n",
       "      <td>10.000</td>\n",
       "      <td>923.000</td>\n",
       "      <td>658.000</td>\n",
       "      <td>20.000</td>\n",
       "      <td>64.000</td>\n",
       "      <td>26.820</td>\n",
       "    </tr>\n",
       "    <tr>\n",
       "      <th>...</th>\n",
       "      <td>...</td>\n",
       "      <td>...</td>\n",
       "      <td>...</td>\n",
       "      <td>...</td>\n",
       "      <td>...</td>\n",
       "      <td>...</td>\n",
       "      <td>...</td>\n",
       "      <td>...</td>\n",
       "      <td>...</td>\n",
       "      <td>...</td>\n",
       "    </tr>\n",
       "    <tr>\n",
       "      <th>98</th>\n",
       "      <td>248.300</td>\n",
       "      <td>101.000</td>\n",
       "      <td>239.100</td>\n",
       "      <td>168.900</td>\n",
       "      <td>7.700</td>\n",
       "      <td>954.200</td>\n",
       "      <td>640.600</td>\n",
       "      <td>0.000</td>\n",
       "      <td>20.000</td>\n",
       "      <td>49.970</td>\n",
       "    </tr>\n",
       "    <tr>\n",
       "      <th>99</th>\n",
       "      <td>248.000</td>\n",
       "      <td>101.000</td>\n",
       "      <td>239.900</td>\n",
       "      <td>169.100</td>\n",
       "      <td>7.700</td>\n",
       "      <td>949.900</td>\n",
       "      <td>644.100</td>\n",
       "      <td>2.000</td>\n",
       "      <td>20.000</td>\n",
       "      <td>50.230</td>\n",
       "    </tr>\n",
       "    <tr>\n",
       "      <th>100</th>\n",
       "      <td>258.800</td>\n",
       "      <td>88.000</td>\n",
       "      <td>239.600</td>\n",
       "      <td>175.300</td>\n",
       "      <td>7.600</td>\n",
       "      <td>938.900</td>\n",
       "      <td>646.000</td>\n",
       "      <td>0.000</td>\n",
       "      <td>20.000</td>\n",
       "      <td>50.500</td>\n",
       "    </tr>\n",
       "    <tr>\n",
       "      <th>101</th>\n",
       "      <td>297.100</td>\n",
       "      <td>40.900</td>\n",
       "      <td>239.900</td>\n",
       "      <td>194.000</td>\n",
       "      <td>7.500</td>\n",
       "      <td>908.900</td>\n",
       "      <td>651.800</td>\n",
       "      <td>27.500</td>\n",
       "      <td>67.000</td>\n",
       "      <td>49.170</td>\n",
       "    </tr>\n",
       "    <tr>\n",
       "      <th>102</th>\n",
       "      <td>348.700</td>\n",
       "      <td>0.100</td>\n",
       "      <td>223.100</td>\n",
       "      <td>208.500</td>\n",
       "      <td>9.600</td>\n",
       "      <td>786.200</td>\n",
       "      <td>758.100</td>\n",
       "      <td>29.000</td>\n",
       "      <td>78.000</td>\n",
       "      <td>48.700</td>\n",
       "    </tr>\n",
       "  </tbody>\n",
       "</table>\n",
       "<p>103 rows × 10 columns</p>\n",
       "</div>"
      ],
      "text/plain": [
       "     Cement    Slag  Fly ash   Water     SP  Coarse Aggr.  Fine Aggr.  \\\n",
       "0   273.000  82.000  105.000 210.000  9.000       904.000     680.000   \n",
       "1   163.000 149.000  191.000 180.000 12.000       843.000     746.000   \n",
       "2   162.000 148.000  191.000 179.000 16.000       840.000     743.000   \n",
       "3   162.000 148.000  190.000 179.000 19.000       838.000     741.000   \n",
       "4   154.000 112.000  144.000 220.000 10.000       923.000     658.000   \n",
       "..      ...     ...      ...     ...    ...           ...         ...   \n",
       "98  248.300 101.000  239.100 168.900  7.700       954.200     640.600   \n",
       "99  248.000 101.000  239.900 169.100  7.700       949.900     644.100   \n",
       "100 258.800  88.000  239.600 175.300  7.600       938.900     646.000   \n",
       "101 297.100  40.900  239.900 194.000  7.500       908.900     651.800   \n",
       "102 348.700   0.100  223.100 208.500  9.600       786.200     758.100   \n",
       "\n",
       "     SLUMP(cm)  FLOW(cm)  Compressive Strength (28-day)(Mpa)  \n",
       "0       23.000    62.000                              34.990  \n",
       "1        0.000    20.000                              41.140  \n",
       "2        1.000    20.000                              41.810  \n",
       "3        3.000    21.500                              42.080  \n",
       "4       20.000    64.000                              26.820  \n",
       "..         ...       ...                                 ...  \n",
       "98       0.000    20.000                              49.970  \n",
       "99       2.000    20.000                              50.230  \n",
       "100      0.000    20.000                              50.500  \n",
       "101     27.500    67.000                              49.170  \n",
       "102     29.000    78.000                              48.700  \n",
       "\n",
       "[103 rows x 10 columns]"
      ]
     },
     "execution_count": 3,
     "metadata": {},
     "output_type": "execute_result"
    }
   ],
   "source": [
    "df"
   ]
  },
  {
   "cell_type": "markdown",
   "metadata": {
    "id": "1xsgyEZ5LkKb"
   },
   "source": [
    "# EDA and Graphical analysis"
   ]
  },
  {
   "cell_type": "code",
   "execution_count": null,
   "metadata": {
    "id": "OOynhUc7Lv1F"
   },
   "outputs": [],
   "source": []
  },
  {
   "cell_type": "markdown",
   "metadata": {
    "id": "6mGpnc0Op9ib"
   },
   "source": [
    "# Data Preprocessing "
   ]
  },
  {
   "cell_type": "markdown",
   "metadata": {
    "id": "lQry6QMmLkKd"
   },
   "source": [
    "### Features and target variable"
   ]
  },
  {
   "cell_type": "code",
   "execution_count": null,
   "metadata": {
    "id": "Q8WR47fMLzH1"
   },
   "outputs": [],
   "source": []
  },
  {
   "cell_type": "markdown",
   "metadata": {
    "id": "2bgxIFqvLkKe"
   },
   "source": [
    "### Splitting data into training and testing"
   ]
  },
  {
   "cell_type": "code",
   "execution_count": null,
   "metadata": {
    "id": "uUotDhZ_L0YN"
   },
   "outputs": [],
   "source": []
  },
  {
   "cell_type": "markdown",
   "metadata": {
    "id": "4YkV6BW2qAQf"
   },
   "source": [
    "## Scaling"
   ]
  },
  {
   "cell_type": "code",
   "execution_count": null,
   "metadata": {
    "id": "9eLa4YNQL2J1"
   },
   "outputs": [],
   "source": []
  },
  {
   "cell_type": "markdown",
   "metadata": {
    "id": "pe_hobuSLkKf"
   },
   "source": [
    "##  1. Model Building (Linear Regression)"
   ]
  },
  {
   "cell_type": "code",
   "execution_count": null,
   "metadata": {
    "id": "MixfWgNNL35l"
   },
   "outputs": [],
   "source": []
  },
  {
   "cell_type": "markdown",
   "metadata": {
    "id": "emzJ9dsTLkKg"
   },
   "source": [
    "### 1.1 Interpret the model"
   ]
  },
  {
   "cell_type": "code",
   "execution_count": null,
   "metadata": {
    "id": "G81OxjyLMCJd"
   },
   "outputs": [],
   "source": []
  },
  {
   "cell_type": "markdown",
   "metadata": {
    "id": "3fCcbzwNLkKg"
   },
   "source": [
    "### 1.2 Model Evaluation"
   ]
  },
  {
   "cell_type": "code",
   "execution_count": null,
   "metadata": {
    "id": "YRTnaI1wMHdl"
   },
   "outputs": [],
   "source": []
  },
  {
   "cell_type": "markdown",
   "metadata": {
    "id": "IkKMCPoXLkKj"
   },
   "source": [
    "# 2. Regularization"
   ]
  },
  {
   "cell_type": "markdown",
   "metadata": {
    "id": "EnODVEgbLkKj"
   },
   "source": [
    "## 2.1 Ridge (Apply and evaluate)"
   ]
  },
  {
   "cell_type": "code",
   "execution_count": null,
   "metadata": {
    "id": "Jivj_YF7M8p1"
   },
   "outputs": [],
   "source": []
  },
  {
   "cell_type": "markdown",
   "metadata": {
    "id": "V6YuerUULkKl"
   },
   "source": [
    "## 2.2 Lasso (Apply and evalute)"
   ]
  },
  {
   "cell_type": "code",
   "execution_count": null,
   "metadata": {
    "id": "U7PzzbLqM8K9"
   },
   "outputs": [],
   "source": []
  },
  {
   "cell_type": "markdown",
   "metadata": {
    "id": "B_4SjDxcLkKn"
   },
   "source": [
    "## 2.3 Elastic-Net (Apply and evaluate )\n",
    "* Use Gridsearch for hyperparameter tuning instead of ElacticnetCV"
   ]
  },
  {
   "cell_type": "code",
   "execution_count": null,
   "metadata": {
    "id": "U_cMyIkXLkKs"
   },
   "outputs": [],
   "source": []
  }
 ],
 "metadata": {
  "colab": {
   "collapsed_sections": [],
   "name": "cement_slump_notebook.assignment1.ipynb",
   "provenance": []
  },
  "kernelspec": {
   "display_name": "Python 3 (ipykernel)",
   "language": "python",
   "name": "python3"
  },
  "language_info": {
   "codemirror_mode": {
    "name": "ipython",
    "version": 3
   },
   "file_extension": ".py",
   "mimetype": "text/x-python",
   "name": "python",
   "nbconvert_exporter": "python",
   "pygments_lexer": "ipython3",
   "version": "3.7.11"
  }
 },
 "nbformat": 4,
 "nbformat_minor": 1
}
